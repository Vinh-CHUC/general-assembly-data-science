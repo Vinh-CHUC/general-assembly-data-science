{
 "cells": [
  {
   "cell_type": "markdown",
   "metadata": {},
   "source": [
    "# Are Facebook shares related to the success of an online petition?"
   ]
  },
  {
   "cell_type": "markdown",
   "metadata": {},
   "source": [
    "## Setup"
   ]
  },
  {
   "cell_type": "markdown",
   "metadata": {},
   "source": [
    "Let's start by importing some libraries:\n",
    "* `numpy` and `pandas` to load, explore, and transform the data\n",
    "* `matplotlib` and `seaborn` to plot the data"
   ]
  },
  {
   "cell_type": "code",
   "execution_count": 130,
   "metadata": {
    "collapsed": true
   },
   "outputs": [],
   "source": [
    "import numpy as np\n",
    "import pandas as pd\n",
    "import matplotlib.pyplot as plt\n",
    "import seaborn as sns\n",
    "\n",
    "# Make sure plots are shown inside the notebook\n",
    "%matplotlib inline\n",
    "plt.rcParams['figure.figsize'] = (10, 6)"
   ]
  },
  {
   "cell_type": "markdown",
   "metadata": {},
   "source": [
    "## Exploratory data analysis"
   ]
  },
  {
   "cell_type": "markdown",
   "metadata": {},
   "source": [
    "Let's now load the data!"
   ]
  },
  {
   "cell_type": "code",
   "execution_count": 131,
   "metadata": {
    "collapsed": true
   },
   "outputs": [],
   "source": [
    "petitions = pd.read_csv('https://learn.estimand.com/datasets/petitions.csv.gz', index_col=0, compression='gzip')"
   ]
  },
  {
   "cell_type": "markdown",
   "metadata": {},
   "source": [
    "We start our exploration by simply printing the first 5 rows; this is the default setting for `head()`."
   ]
  },
  {
   "cell_type": "code",
   "execution_count": 132,
   "metadata": {},
   "outputs": [
    {
     "data": {
      "text/html": [
       "<div>\n",
       "<table border=\"1\" class=\"dataframe\">\n",
       "  <thead>\n",
       "    <tr style=\"text-align: right;\">\n",
       "      <th></th>\n",
       "      <th>action</th>\n",
       "      <th>opened_at</th>\n",
       "      <th>total_signatures</th>\n",
       "      <th>uk_signatures</th>\n",
       "      <th>fb_shares</th>\n",
       "    </tr>\n",
       "    <tr>\n",
       "      <th>id</th>\n",
       "      <th></th>\n",
       "      <th></th>\n",
       "      <th></th>\n",
       "      <th></th>\n",
       "      <th></th>\n",
       "    </tr>\n",
       "  </thead>\n",
       "  <tbody>\n",
       "    <tr>\n",
       "      <th>104309</th>\n",
       "      <td>Introduce a rate increase cap on pay TV pricin...</td>\n",
       "      <td>2015-07-20 13:35:32.499</td>\n",
       "      <td>22</td>\n",
       "      <td>22</td>\n",
       "      <td>6</td>\n",
       "    </tr>\n",
       "    <tr>\n",
       "      <th>104311</th>\n",
       "      <td>Impose a heavy extra tax on foreign buyers of ...</td>\n",
       "      <td>2015-07-20 11:05:07.590</td>\n",
       "      <td>383</td>\n",
       "      <td>380</td>\n",
       "      <td>72</td>\n",
       "    </tr>\n",
       "    <tr>\n",
       "      <th>104317</th>\n",
       "      <td>Hold a referendum on electoral reform with the...</td>\n",
       "      <td>2015-07-20 13:39:20.344</td>\n",
       "      <td>4767</td>\n",
       "      <td>4701</td>\n",
       "      <td>2361</td>\n",
       "    </tr>\n",
       "    <tr>\n",
       "      <th>104318</th>\n",
       "      <td>Make the 'Steam' refund policy the law for all...</td>\n",
       "      <td>2015-07-21 15:30:55.362</td>\n",
       "      <td>94</td>\n",
       "      <td>92</td>\n",
       "      <td>13</td>\n",
       "    </tr>\n",
       "    <tr>\n",
       "      <th>104319</th>\n",
       "      <td>Ban unpaid internships</td>\n",
       "      <td>2015-07-20 13:55:48.630</td>\n",
       "      <td>438</td>\n",
       "      <td>436</td>\n",
       "      <td>70</td>\n",
       "    </tr>\n",
       "  </tbody>\n",
       "</table>\n",
       "</div>"
      ],
      "text/plain": [
       "                                                   action  \\\n",
       "id                                                          \n",
       "104309  Introduce a rate increase cap on pay TV pricin...   \n",
       "104311  Impose a heavy extra tax on foreign buyers of ...   \n",
       "104317  Hold a referendum on electoral reform with the...   \n",
       "104318  Make the 'Steam' refund policy the law for all...   \n",
       "104319                             Ban unpaid internships   \n",
       "\n",
       "                      opened_at  total_signatures  uk_signatures  fb_shares  \n",
       "id                                                                           \n",
       "104309  2015-07-20 13:35:32.499                22             22          6  \n",
       "104311  2015-07-20 11:05:07.590               383            380         72  \n",
       "104317  2015-07-20 13:39:20.344              4767           4701       2361  \n",
       "104318  2015-07-21 15:30:55.362                94             92         13  \n",
       "104319  2015-07-20 13:55:48.630               438            436         70  "
      ]
     },
     "execution_count": 132,
     "metadata": {},
     "output_type": "execute_result"
    }
   ],
   "source": [
    "petitions.head()"
   ]
  },
  {
   "cell_type": "markdown",
   "metadata": {},
   "source": [
    "We can see that there are 5 columns (plus `id` which acts as the index), but how many rows are there?\n",
    "The attribute `shape` gives the number of rows (observations) and columns (variables) in our `DataFrame`."
   ]
  },
  {
   "cell_type": "code",
   "execution_count": 133,
   "metadata": {},
   "outputs": [
    {
     "data": {
      "text/plain": [
       "(3582, 5)"
      ]
     },
     "execution_count": 133,
     "metadata": {},
     "output_type": "execute_result"
    }
   ],
   "source": [
    "petitions.shape"
   ]
  },
  {
   "cell_type": "markdown",
   "metadata": {},
   "source": [
    "Each column corresponds to a variable, and has an associated **data type** which can be accessed using `dtypes`."
   ]
  },
  {
   "cell_type": "code",
   "execution_count": 134,
   "metadata": {},
   "outputs": [
    {
     "data": {
      "text/plain": [
       "action              object\n",
       "opened_at           object\n",
       "total_signatures     int64\n",
       "uk_signatures        int64\n",
       "fb_shares            int64\n",
       "dtype: object"
      ]
     },
     "execution_count": 134,
     "metadata": {},
     "output_type": "execute_result"
    }
   ],
   "source": [
    "petitions.dtypes"
   ]
  },
  {
   "cell_type": "markdown",
   "metadata": {},
   "source": [
    "As we saw above, `opened_at` represents the date and time when the petition went live. `pandas` has many useful functions to deal with `datetime` objects, so let's convert `opened_at` to the proper data type."
   ]
  },
  {
   "cell_type": "code",
   "execution_count": 135,
   "metadata": {
    "collapsed": true
   },
   "outputs": [],
   "source": [
    "petitions['opened_at'] = pd.to_datetime(petitions['opened_at'])"
   ]
  },
  {
   "cell_type": "code",
   "execution_count": 136,
   "metadata": {},
   "outputs": [
    {
     "data": {
      "text/plain": [
       "action                      object\n",
       "opened_at           datetime64[ns]\n",
       "total_signatures             int64\n",
       "uk_signatures                int64\n",
       "fb_shares                    int64\n",
       "dtype: object"
      ]
     },
     "execution_count": 136,
     "metadata": {},
     "output_type": "execute_result"
    }
   ],
   "source": [
    "petitions.dtypes"
   ]
  },
  {
   "cell_type": "markdown",
   "metadata": {},
   "source": [
    "We are now ready to explore the data! Let's start by 'describing' a single column, for example `total_signatures`."
   ]
  },
  {
   "cell_type": "code",
   "execution_count": 137,
   "metadata": {},
   "outputs": [
    {
     "data": {
      "text/plain": [
       "count      3582.000000\n",
       "mean       3909.531826\n",
       "std       26099.244047\n",
       "min           6.000000\n",
       "25%          27.000000\n",
       "50%          86.000000\n",
       "75%         641.750000\n",
       "max      823348.000000\n",
       "Name: total_signatures, dtype: float64"
      ]
     },
     "execution_count": 137,
     "metadata": {},
     "output_type": "execute_result"
    }
   ],
   "source": [
    "petitions.total_signatures.describe()"
   ]
  },
  {
   "cell_type": "markdown",
   "metadata": {},
   "source": [
    "A graphical representation of this information is the box plot."
   ]
  },
  {
   "cell_type": "code",
   "execution_count": 138,
   "metadata": {},
   "outputs": [
    {
     "data": {
      "text/plain": [
       "<matplotlib.axes._subplots.AxesSubplot at 0x11dd435f8>"
      ]
     },
     "execution_count": 138,
     "metadata": {},
     "output_type": "execute_result"
    },
    {
     "data": {
      "image/png": "[encoded data removed]",
      "text/plain": [
       "<matplotlib.figure.Figure at 0x11cd5e940>"
      ]
     },
     "metadata": {},
     "output_type": "display_data"
    }
   ],
   "source": [
    "sns.boxplot(petitions['total_signatures'])"
   ]
  },
  {
   "cell_type": "markdown",
   "metadata": {},
   "source": [
    "What's going on here?! As we saw using `describe()`, the total number of signatures varies enormously (from 6 to more than 800,000!), but only very few petitions actually have a huge number of signatures.\n",
    "\n",
    "When this happens, it's sometimes useful to apply certain **transformations** such as the logarithm. Let's see if this works here!"
   ]
  },
  {
   "cell_type": "code",
   "execution_count": 139,
   "metadata": {
    "collapsed": true
   },
   "outputs": [],
   "source": [
    "petitions['total_signatures_log'] = np.log(petitions['total_signatures'])"
   ]
  },
  {
   "cell_type": "code",
   "execution_count": 140,
   "metadata": {},
   "outputs": [
    {
     "data": {
      "text/plain": [
       "count    3582.000000\n",
       "mean        5.048422\n",
       "std         2.228558\n",
       "min         1.791759\n",
       "25%         3.295837\n",
       "50%         4.454347\n",
       "75%         6.464199\n",
       "max        13.621134\n",
       "Name: total_signatures_log, dtype: float64"
      ]
     },
     "execution_count": 140,
     "metadata": {},
     "output_type": "execute_result"
    }
   ],
   "source": [
    "petitions['total_signatures_log'].describe()"
   ]
  },
  {
   "cell_type": "markdown",
   "metadata": {},
   "source": [
    "The standard deviation has dropped significantly! What happens if we try to produce a box plot again?"
   ]
  },
  {
   "cell_type": "code",
   "execution_count": 141,
   "metadata": {},
   "outputs": [
    {
     "data": {
      "text/plain": [
       "<matplotlib.axes._subplots.AxesSubplot at 0x111e0b7f0>"
      ]
     },
     "execution_count": 141,
     "metadata": {},
     "output_type": "execute_result"
    },
    {
     "data": {
      "image/png": "[encoded data removed]",
      "text/plain": [
       "<matplotlib.figure.Figure at 0x111e1a9b0>"
      ]
     },
     "metadata": {},
     "output_type": "display_data"
    }
   ],
   "source": [
    "sns.boxplot(petitions['total_signatures_log'])"
   ]
  },
  {
   "cell_type": "markdown",
   "metadata": {},
   "source": [
    "A complementary visualisation is the kernel density estimate. You can think of it as a 'continuous' version of a histogram, with the added bonus that you don't have to arbitrarily pick the number of bins."
   ]
  },
  {
   "cell_type": "code",
   "execution_count": 151,
   "metadata": {},
   "outputs": [
    {
     "data": {
      "text/plain": [
       "<matplotlib.axes._subplots.AxesSubplot at 0x11eeb35f8>"
      ]
     },
     "execution_count": 151,
     "metadata": {},
     "output_type": "execute_result"
    },
    {
     "data": {
      "image/png": "[encoded data removed]",
      "text/plain": [
       "<matplotlib.figure.Figure at 0x11f0b5470>"
      ]
     },
     "metadata": {},
     "output_type": "display_data"
    }
   ],
   "source": [
    "sns.distplot(petitions['total_signatures_log'])"
   ]
  },
  {
   "cell_type": "code",
   "execution_count": 161,
   "metadata": {},
   "outputs": [
    {
     "data": {
      "text/plain": [
       "<matplotlib.axes._subplots.AxesSubplot at 0x11f258c50>"
      ]
     },
     "execution_count": 161,
     "metadata": {},
     "output_type": "execute_result"
    },
    {
     "data": {
      "image/png": "[encoded data removed]",
      "text/plain": [
       "<matplotlib.figure.Figure at 0x11f0b5198>"
      ]
     },
     "metadata": {},
     "output_type": "display_data"
    }
   ],
   "source": [
    "petitions['fb_shares_log'] = np.log(\n",
    "    np.where(\n",
    "        petitions['fb_shares'],\n",
    "        petitions['fb_shares'],\n",
    "        1\n",
    "    )\n",
    ")\n",
    "sns.distplot(petitions['fb_shares_log'])\n"
   ]
  },
  {
   "cell_type": "markdown",
   "metadata": {},
   "source": [
    "When dealing with categorical variables (or numerical variables with few unique values), it's useful to count how many times each unique value occurs."
   ]
  },
  {
   "cell_type": "code",
   "execution_count": 143,
   "metadata": {},
   "outputs": [
    {
     "data": {
      "text/plain": [
       "2015    2172\n",
       "2016    1410\n",
       "Name: opened_at, dtype: int64"
      ]
     },
     "execution_count": 143,
     "metadata": {},
     "output_type": "execute_result"
    }
   ],
   "source": [
    "petitions['opened_at'].dt.year.value_counts()"
   ]
  },
  {
   "cell_type": "markdown",
   "metadata": {},
   "source": [
    "Note how we can access `datetime`-specific functions directly using `dt`. By 'chaining together' multiple methods, we can quickly build interesting visualisations!"
   ]
  },
  {
   "cell_type": "code",
   "execution_count": 144,
   "metadata": {},
   "outputs": [
    {
     "data": {
      "text/plain": [
       "<matplotlib.axes._subplots.AxesSubplot at 0x11dd68b00>"
      ]
     },
     "execution_count": 144,
     "metadata": {},
     "output_type": "execute_result"
    },
    {
     "data": {
      "image/png": "[encoded data removed]",
      "text/plain": [
       "<matplotlib.figure.Figure at 0x111f6a080>"
      ]
     },
     "metadata": {},
     "output_type": "display_data"
    }
   ],
   "source": [
    "petitions['opened_at'].dt.hour.value_counts().sort_index().plot.bar()"
   ]
  },
  {
   "cell_type": "markdown",
   "metadata": {},
   "source": [
    "`pandas` provides powerful functions to work with time series. For example, using `resample()` we can aggregate our data at monthly (or any other!) resolution."
   ]
  },
  {
   "cell_type": "code",
   "execution_count": 145,
   "metadata": {},
   "outputs": [
    {
     "data": {
      "text/plain": [
       "opened_at\n",
       "2015-07-31    281\n",
       "2015-08-31    360\n",
       "2015-09-30    468\n",
       "2015-10-31    301\n",
       "2015-11-30    370\n",
       "2015-12-31    392\n",
       "2016-01-31    434\n",
       "2016-02-29    558\n",
       "2016-03-31    418\n",
       "Freq: M, Name: action, dtype: int64"
      ]
     },
     "execution_count": 145,
     "metadata": {},
     "output_type": "execute_result"
    }
   ],
   "source": [
    "petitions.set_index('opened_at').resample('M').action.count()"
   ]
  },
  {
   "cell_type": "markdown",
   "metadata": {},
   "source": [
    "And plot the result, of course!"
   ]
  },
  {
   "cell_type": "code",
   "execution_count": 146,
   "metadata": {},
   "outputs": [
    {
     "data": {
      "text/plain": [
       "<matplotlib.axes._subplots.AxesSubplot at 0x11e261ac8>"
      ]
     },
     "execution_count": 146,
     "metadata": {},
     "output_type": "execute_result"
    },
    {
     "data": {
      "image/png": "[encoded data removed]",
      "text/plain": [
       "<matplotlib.figure.Figure at 0x11e21c780>"
      ]
     },
     "metadata": {},
     "output_type": "display_data"
    }
   ],
   "source": [
    "petitions.set_index('opened_at').resample('M').action.count().plot.line()"
   ]
  },
  {
   "cell_type": "markdown",
   "metadata": {},
   "source": [
    "We can also easily obtain monthly statistics, for example the average number of signatures for petitions started in a given month."
   ]
  },
  {
   "cell_type": "code",
   "execution_count": 147,
   "metadata": {},
   "outputs": [
    {
     "data": {
      "text/plain": [
       "opened_at\n",
       "2015-07-31    6293.177936\n",
       "2015-08-31    5249.583333\n",
       "2015-09-30    4691.254274\n",
       "2015-10-31    2633.282392\n",
       "2015-11-30    3894.175676\n",
       "2015-12-31    3906.650510\n",
       "2016-01-31    1994.087558\n",
       "2016-02-29    3382.152330\n",
       "2016-03-31    3905.880383\n",
       "Freq: M, Name: total_signatures, dtype: float64"
      ]
     },
     "execution_count": 147,
     "metadata": {},
     "output_type": "execute_result"
    }
   ],
   "source": [
    "petitions.set_index('opened_at').resample('M').total_signatures.mean()"
   ]
  },
  {
   "cell_type": "markdown",
   "metadata": {},
   "source": [
    "And plot it again!"
   ]
  },
  {
   "cell_type": "code",
   "execution_count": 148,
   "metadata": {},
   "outputs": [
    {
     "data": {
      "text/plain": [
       "<matplotlib.axes._subplots.AxesSubplot at 0x11e2ef8d0>"
      ]
     },
     "execution_count": 148,
     "metadata": {},
     "output_type": "execute_result"
    },
    {
     "data": {
      "image/png": "[encoded data removed]",
      "text/plain": [
       "<matplotlib.figure.Figure at 0x11e4f6588>"
      ]
     },
     "metadata": {},
     "output_type": "display_data"
    }
   ],
   "source": [
    "petitions.set_index('opened_at').resample('M').total_signatures.mean().plot.line()"
   ]
  },
  {
   "cell_type": "markdown",
   "metadata": {
    "collapsed": true
   },
   "source": [
    "We could spend *a lot* of time playing with the data, but let's focus on the problem at hand!\n",
    "\n",
    "**Over to you now**: have a look at the variable `fb_shares`!"
   ]
  },
  {
   "cell_type": "markdown",
   "metadata": {},
   "source": [
    "Let's now explore the association between the transformed `total_signatures` and `fb_shares`!"
   ]
  },
  {
   "cell_type": "code",
   "execution_count": 163,
   "metadata": {},
   "outputs": [
    {
     "data": {
      "text/plain": [
       "<seaborn.axisgrid.JointGrid at 0x11f953400>"
      ]
     },
     "execution_count": 163,
     "metadata": {},
     "output_type": "execute_result"
    },
    {
     "data": {
      "image/png": "[encoded data removed]",
      "text/plain": [
       "<matplotlib.figure.Figure at 0x11f953f98>"
      ]
     },
     "metadata": {},
     "output_type": "display_data"
    }
   ],
   "source": [
    "sns.jointplot(petitions['fb_shares_log'], petitions['total_signatures_log'])"
   ]
  },
  {
   "cell_type": "code",
   "execution_count": 162,
   "metadata": {},
   "outputs": [
    {
     "data": {
      "text/plain": [
       "<seaborn.axisgrid.JointGrid at 0x11f23b240>"
      ]
     },
     "execution_count": 162,
     "metadata": {},
     "output_type": "execute_result"
    },
    {
     "data": {
      "image/png": "[encoded data removed]",
      "text/plain": [
       "<matplotlib.figure.Figure at 0x11f23b630>"
      ]
     },
     "metadata": {},
     "output_type": "display_data"
    }
   ],
   "source": [
    "sns.jointplot(petitions['fb_shares'], petitions['total_signatures'])"
   ]
  },
  {
   "cell_type": "markdown",
   "metadata": {},
   "source": [
    "## Modelling"
   ]
  },
  {
   "cell_type": "markdown",
   "metadata": {},
   "source": [
    "### Traditional statistics"
   ]
  },
  {
   "cell_type": "markdown",
   "metadata": {},
   "source": [
    "It looks like `total_signatures` and `fb_shares` are strongly correlated, but how can we formally assess this association?\n",
    "\n",
    "Let's start by loading `statsmodels`, another library that implements most 'traditional statistics' models with a simple interface (reminiscent of `R`)."
   ]
  },
  {
   "cell_type": "code",
   "execution_count": null,
   "metadata": {
    "collapsed": true
   },
   "outputs": [],
   "source": [
    "import statsmodels.formula.api as smf"
   ]
  },
  {
   "cell_type": "markdown",
   "metadata": {},
   "source": [
    "We will try a linear model (implemented in `statsmodels` as `ols`, ordinary least squares), which assumes the relationship between our two variables is:\n",
    "\n",
    "$$\n",
    "    \\text{Total signatures} = \\beta_{0} + \\beta_{1} \\times \\text{Facebook shares}\n",
    "$$\n",
    "\n",
    "The **intercept** $\\beta_{0}$ represents the total number of signatures for a petition that has never been shared on Facebook, whereas the **regression coefficient** $\\beta_{1}$ represents how many (more/less, depending on the sign) signatures are associated with an additional Facebook share.\n",
    "\n",
    "In our case, remember that we transformed both `total_signatures` and `fb_shares`, meaning that our model is actually:\n",
    "\n",
    "$$\n",
    "    \\log(\\text{Total signatures}) = \\beta_{0} + \\beta_{1} \\times \\log(\\text{Facebook shares})\n",
    "$$\n",
    "\n",
    "Note that this model is equivalent to:\n",
    "\n",
    "$$\n",
    "    \\text{Total signatures} = e^{\\beta_{0}} \\times (\\text{Facebook shares})^{\\beta_{1}}\n",
    "$$\n",
    "\n",
    "Where we have applied a logarithmic transformation on both sides (exactly what we did!).\n",
    "\n",
    "You can read more about the log-log model [here](http://www.dummies.com/education/economics/econometrics/econometrics-and-the-log-log-model/). For interpretation, just remember that the coefficient $\\beta_{1}$ is the estimated *percentage change* in the total number of signatures for a 1% increase in Facebook shares."
   ]
  },
  {
   "cell_type": "code",
   "execution_count": 168,
   "metadata": {
    "collapsed": true
   },
   "outputs": [],
   "source": [
    "model1 = smf.ols('total_signatures ~ fb_shares', data=petitions).fit()"
   ]
  },
  {
   "cell_type": "markdown",
   "metadata": {},
   "source": [
    "Let's now have a look at the output of the model."
   ]
  },
  {
   "cell_type": "code",
   "execution_count": 169,
   "metadata": {},
   "outputs": [
    {
     "data": {
      "text/html": [
       "<table class=\"simpletable\">\n",
       "<caption>OLS Regression Results</caption>\n",
       "<tr>\n",
       "  <th>Dep. Variable:</th>    <td>total_signatures</td> <th>  R-squared:         </th> <td>   0.891</td> \n",
       "</tr>\n",
       "<tr>\n",
       "  <th>Model:</th>                   <td>OLS</td>       <th>  Adj. R-squared:    </th> <td>   0.891</td> \n",
       "</tr>\n",
       "<tr>\n",
       "  <th>Method:</th>             <td>Least Squares</td>  <th>  F-statistic:       </th> <td>2.925e+04</td>\n",
       "</tr>\n",
       "<tr>\n",
       "  <th>Date:</th>             <td>Wed, 31 May 2017</td> <th>  Prob (F-statistic):</th>  <td>  0.00</td>  \n",
       "</tr>\n",
       "<tr>\n",
       "  <th>Time:</th>                 <td>22:13:05</td>     <th>  Log-Likelihood:    </th> <td> -37541.</td> \n",
       "</tr>\n",
       "<tr>\n",
       "  <th>No. Observations:</th>      <td>  3582</td>      <th>  AIC:               </th> <td>7.509e+04</td>\n",
       "</tr>\n",
       "<tr>\n",
       "  <th>Df Residuals:</th>          <td>  3580</td>      <th>  BIC:               </th> <td>7.510e+04</td>\n",
       "</tr>\n",
       "<tr>\n",
       "  <th>Df Model:</th>              <td>     1</td>      <th>                     </th>     <td> </td>    \n",
       "</tr>\n",
       "<tr>\n",
       "  <th>Covariance Type:</th>      <td>nonrobust</td>    <th>                     </th>     <td> </td>    \n",
       "</tr>\n",
       "</table>\n",
       "<table class=\"simpletable\">\n",
       "<tr>\n",
       "      <td></td>         <th>coef</th>     <th>std err</th>      <th>t</th>      <th>P>|t|</th>  <th>[0.025</th>    <th>0.975]</th>  \n",
       "</tr>\n",
       "<tr>\n",
       "  <th>Intercept</th> <td> -471.5761</td> <td>  146.286</td> <td>   -3.224</td> <td> 0.001</td> <td> -758.389</td> <td> -184.764</td>\n",
       "</tr>\n",
       "<tr>\n",
       "  <th>fb_shares</th> <td>    1.2172</td> <td>    0.007</td> <td>  171.023</td> <td> 0.000</td> <td>    1.203</td> <td>    1.231</td>\n",
       "</tr>\n",
       "</table>\n",
       "<table class=\"simpletable\">\n",
       "<tr>\n",
       "  <th>Omnibus:</th>       <td>4319.789</td> <th>  Durbin-Watson:     </th>  <td>   1.958</td>  \n",
       "</tr>\n",
       "<tr>\n",
       "  <th>Prob(Omnibus):</th>  <td> 0.000</td>  <th>  Jarque-Bera (JB):  </th> <td>6688398.924</td>\n",
       "</tr>\n",
       "<tr>\n",
       "  <th>Skew:</th>           <td> 5.425</td>  <th>  Prob(JB):          </th>  <td>    0.00</td>  \n",
       "</tr>\n",
       "<tr>\n",
       "  <th>Kurtosis:</th>       <td>214.414</td> <th>  Cond. No.          </th>  <td>2.09e+04</td>  \n",
       "</tr>\n",
       "</table>"
      ],
      "text/plain": [
       "<class 'statsmodels.iolib.summary.Summary'>\n",
       "\"\"\"\n",
       "                            OLS Regression Results                            \n",
       "==============================================================================\n",
       "Dep. Variable:       total_signatures   R-squared:                       0.891\n",
       "Model:                            OLS   Adj. R-squared:                  0.891\n",
       "Method:                 Least Squares   F-statistic:                 2.925e+04\n",
       "Date:                Wed, 31 May 2017   Prob (F-statistic):               0.00\n",
       "Time:                        22:13:05   Log-Likelihood:                -37541.\n",
       "No. Observations:                3582   AIC:                         7.509e+04\n",
       "Df Residuals:                    3580   BIC:                         7.510e+04\n",
       "Df Model:                           1                                         \n",
       "Covariance Type:            nonrobust                                         \n",
       "==============================================================================\n",
       "                 coef    std err          t      P>|t|      [0.025      0.975]\n",
       "------------------------------------------------------------------------------\n",
       "Intercept   -471.5761    146.286     -3.224      0.001    -758.389    -184.764\n",
       "fb_shares      1.2172      0.007    171.023      0.000       1.203       1.231\n",
       "==============================================================================\n",
       "Omnibus:                     4319.789   Durbin-Watson:                   1.958\n",
       "Prob(Omnibus):                  0.000   Jarque-Bera (JB):          6688398.924\n",
       "Skew:                           5.425   Prob(JB):                         0.00\n",
       "Kurtosis:                     214.414   Cond. No.                     2.09e+04\n",
       "==============================================================================\n",
       "\n",
       "Warnings:\n",
       "[1] Standard Errors assume that the covariance matrix of the errors is correctly specified.\n",
       "[2] The condition number is large, 2.09e+04. This might indicate that there are\n",
       "strong multicollinearity or other numerical problems.\n",
       "\"\"\""
      ]
     },
     "execution_count": 169,
     "metadata": {},
     "output_type": "execute_result"
    }
   ],
   "source": [
    "model1.summary()"
   ]
  },
  {
   "cell_type": "code",
   "execution_count": 175,
   "metadata": {},
   "outputs": [
    {
     "data": {
      "text/html": [
       "<table class=\"simpletable\">\n",
       "<caption>OLS Regression Results</caption>\n",
       "<tr>\n",
       "  <th>Dep. Variable:</th>    <td>total_signatures_log</td> <th>  R-squared:         </th> <td>   0.885</td> \n",
       "</tr>\n",
       "<tr>\n",
       "  <th>Model:</th>                     <td>OLS</td>         <th>  Adj. R-squared:    </th> <td>   0.885</td> \n",
       "</tr>\n",
       "<tr>\n",
       "  <th>Method:</th>               <td>Least Squares</td>    <th>  F-statistic:       </th> <td>2.749e+04</td>\n",
       "</tr>\n",
       "<tr>\n",
       "  <th>Date:</th>               <td>Wed, 31 May 2017</td>   <th>  Prob (F-statistic):</th>  <td>  0.00</td>  \n",
       "</tr>\n",
       "<tr>\n",
       "  <th>Time:</th>                   <td>22:16:38</td>       <th>  Log-Likelihood:    </th> <td> -4082.4</td> \n",
       "</tr>\n",
       "<tr>\n",
       "  <th>No. Observations:</th>        <td>  3582</td>        <th>  AIC:               </th> <td>   8169.</td> \n",
       "</tr>\n",
       "<tr>\n",
       "  <th>Df Residuals:</th>            <td>  3580</td>        <th>  BIC:               </th> <td>   8181.</td> \n",
       "</tr>\n",
       "<tr>\n",
       "  <th>Df Model:</th>                <td>     1</td>        <th>                     </th>     <td> </td>    \n",
       "</tr>\n",
       "<tr>\n",
       "  <th>Covariance Type:</th>        <td>nonrobust</td>      <th>                     </th>     <td> </td>    \n",
       "</tr>\n",
       "</table>\n",
       "<table class=\"simpletable\">\n",
       "<tr>\n",
       "        <td></td>           <th>coef</th>     <th>std err</th>      <th>t</th>      <th>P>|t|</th>  <th>[0.025</th>    <th>0.975]</th>  \n",
       "</tr>\n",
       "<tr>\n",
       "  <th>Intercept</th>     <td>    1.3786</td> <td>    0.025</td> <td>   54.085</td> <td> 0.000</td> <td>    1.329</td> <td>    1.429</td>\n",
       "</tr>\n",
       "<tr>\n",
       "  <th>fb_shares_log</th> <td>    0.7801</td> <td>    0.005</td> <td>  165.802</td> <td> 0.000</td> <td>    0.771</td> <td>    0.789</td>\n",
       "</tr>\n",
       "</table>\n",
       "<table class=\"simpletable\">\n",
       "<tr>\n",
       "  <th>Omnibus:</th>       <td>131.208</td> <th>  Durbin-Watson:     </th> <td>   1.967</td>\n",
       "</tr>\n",
       "<tr>\n",
       "  <th>Prob(Omnibus):</th> <td> 0.000</td>  <th>  Jarque-Bera (JB):  </th> <td> 154.346</td>\n",
       "</tr>\n",
       "<tr>\n",
       "  <th>Skew:</th>          <td> 0.434</td>  <th>  Prob(JB):          </th> <td>3.05e-34</td>\n",
       "</tr>\n",
       "<tr>\n",
       "  <th>Kurtosis:</th>      <td> 3.529</td>  <th>  Cond. No.          </th> <td>    11.2</td>\n",
       "</tr>\n",
       "</table>"
      ],
      "text/plain": [
       "<class 'statsmodels.iolib.summary.Summary'>\n",
       "\"\"\"\n",
       "                             OLS Regression Results                             \n",
       "================================================================================\n",
       "Dep. Variable:     total_signatures_log   R-squared:                       0.885\n",
       "Model:                              OLS   Adj. R-squared:                  0.885\n",
       "Method:                   Least Squares   F-statistic:                 2.749e+04\n",
       "Date:                  Wed, 31 May 2017   Prob (F-statistic):               0.00\n",
       "Time:                          22:16:38   Log-Likelihood:                -4082.4\n",
       "No. Observations:                  3582   AIC:                             8169.\n",
       "Df Residuals:                      3580   BIC:                             8181.\n",
       "Df Model:                             1                                         \n",
       "Covariance Type:              nonrobust                                         \n",
       "=================================================================================\n",
       "                    coef    std err          t      P>|t|      [0.025      0.975]\n",
       "---------------------------------------------------------------------------------\n",
       "Intercept         1.3786      0.025     54.085      0.000       1.329       1.429\n",
       "fb_shares_log     0.7801      0.005    165.802      0.000       0.771       0.789\n",
       "==============================================================================\n",
       "Omnibus:                      131.208   Durbin-Watson:                   1.967\n",
       "Prob(Omnibus):                  0.000   Jarque-Bera (JB):              154.346\n",
       "Skew:                           0.434   Prob(JB):                     3.05e-34\n",
       "Kurtosis:                       3.529   Cond. No.                         11.2\n",
       "==============================================================================\n",
       "\n",
       "Warnings:\n",
       "[1] Standard Errors assume that the covariance matrix of the errors is correctly specified.\n",
       "\"\"\""
      ]
     },
     "execution_count": 175,
     "metadata": {},
     "output_type": "execute_result"
    }
   ],
   "source": [
    "mymodel = smf.ols('total_signatures_log ~ fb_shares_log', data=petitions).fit()\n",
    "mymodel.summary()"
   ]
  },
  {
   "cell_type": "markdown",
   "metadata": {},
   "source": [
    "We can conclude that a 1% increase in Facebook shares is associated with a 0.8% increase in signatures.\n",
    "The association is highly 'statistically significant' (very small $p$-value), and the model fits the data well ($R^{2}$ almost 0.9)."
   ]
  },
  {
   "cell_type": "code",
   "execution_count": 184,
   "metadata": {},
   "outputs": [
    {
     "data": {
      "text/plain": [
       "<matplotlib.axes._subplots.AxesSubplot at 0x12146e6d8>"
      ]
     },
     "execution_count": 184,
     "metadata": {},
     "output_type": "execute_result"
    },
    {
     "data": {
      "image/png": "[encoded data removed]",
      "text/plain": [
       "<matplotlib.figure.Figure at 0x12148fda0>"
      ]
     },
     "metadata": {},
     "output_type": "display_data"
    }
   ],
   "source": [
    "X = np.linspace(1, 1000000, 100)\n",
    "sns.regplot(X, np.exp(1.3786)*(X**0.7801), color='blue', fit_reg=False)\n",
    "sns.regplot(X, -471.5761 + 1.2172*X, color='red', fit_reg=False)\n",
    "sns.regplot(petitions['fb_shares'], petitions['total_signatures'], color='grey', fit_reg=False)"
   ]
  },
  {
   "cell_type": "markdown",
   "metadata": {},
   "source": [
    "### Feature engineering"
   ]
  },
  {
   "cell_type": "markdown",
   "metadata": {},
   "source": [
    "Feature engineering is the process of incorporating domain knowledge in the data by devising new variables (*features* in machine learning parlance). Very often this leads to better models, but it's difficult and can be expensive!\n",
    "\n",
    "Let's try to 'engineer' some features based on the `action` variable. For example, we could select some hot keywords such as 'ban' and 'stop', or heavily debated topics such as the NHS."
   ]
  },
  {
   "cell_type": "code",
   "execution_count": null,
   "metadata": {
    "collapsed": true
   },
   "outputs": [],
   "source": [
    "petitions['ban_stop'] = petitions.action.str.contains('ban', case=False) |\\\n",
    "                        petitions.action.str.contains('stop', case=False)\n",
    "petitions['nhs'] = petitions.action.str.contains('NHS', case=False)"
   ]
  },
  {
   "cell_type": "markdown",
   "metadata": {},
   "source": [
    "The regression coefficients for `ban_stop` and `nhs` represent the percentage change in the total number of signatures when the words 'ban' or 'stop' are present, or the NHS is mentioned, **all else unchanged**."
   ]
  },
  {
   "cell_type": "code",
   "execution_count": null,
   "metadata": {},
   "outputs": [],
   "source": [
    "model2 = smf.ols('total_signatures ~ fb_shares_log + ban_stop + nhs', data=petitions).fit()\n",
    "model2.summary()"
   ]
  },
  {
   "cell_type": "markdown",
   "metadata": {},
   "source": [
    "The model fit (represented by the $R^{2}$ value) didn't improve significantly, yet the association with `ban_stop` is 'statistically significant' ($p$-value below 5%)."
   ]
  }
 ],
 "metadata": {
  "kernelspec": {
   "display_name": "Python 3",
   "language": "python",
   "name": "python3"
  },
  "language_info": {
   "codemirror_mode": {
    "name": "ipython",
    "version": 3
   },
   "file_extension": ".py",
   "mimetype": "text/x-python",
   "name": "python",
   "nbconvert_exporter": "python",
   "pygments_lexer": "ipython3",
   "version": "3.6.1"
  }
 },
 "nbformat": 4,
 "nbformat_minor": 1
}
