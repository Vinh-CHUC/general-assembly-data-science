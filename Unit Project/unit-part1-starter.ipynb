{
 "cells": [
  {
   "cell_type": "markdown",
   "metadata": {},
   "source": [
    "# Unit Project - Part 1\n",
    "\n",
    "In this first part, you will create a framework to scope out data science projects. This framework will provide you with a guide to develop a well-articulated problem statement and analysis plan that will be robust and reproducible."
   ]
  },
  {
   "cell_type": "markdown",
   "metadata": {},
   "source": [
    "### Read and evaluate the following problem statement: \n",
    "Determine which free-tier customers will covert to paying customers, using demographic data collected at signup (age, gender, location, and profession) and customer useage data (days since last log in, and activity score 1 = active user, 0= inactive user) based on Hooli data from Jan-Apr 2015. \n"
   ]
  },
  {
   "cell_type": "markdown",
   "metadata": {},
   "source": [
    "#### 1. What is the outcome?"
   ]
  },
  {
   "cell_type": "markdown",
   "metadata": {},
   "source": [
    "Answer:  The outcome is the whether a free-tier customer will convert to a paying customer"
   ]
  },
  {
   "cell_type": "markdown",
   "metadata": {},
   "source": [
    "#### 2. What are the predictors/covariates? "
   ]
  },
  {
   "cell_type": "markdown",
   "metadata": {},
   "source": [
    "Answer: The predictors are:\n",
    "* age\n",
    "* gender\n",
    "* location\n",
    "* profession\n",
    "* days since last login\n",
    "* activity score"
   ]
  },
  {
   "cell_type": "markdown",
   "metadata": {},
   "source": [
    "#### 3. What timeframe is this data relevent for?"
   ]
  },
  {
   "cell_type": "markdown",
   "metadata": {},
   "source": [
    "Answer:  Jan to Apr 2015"
   ]
  },
  {
   "cell_type": "markdown",
   "metadata": {},
   "source": [
    "#### 4. What is the hypothesis?"
   ]
  },
  {
   "cell_type": "markdown",
   "metadata": {},
   "source": [
    "Answer: Free-tier customers will be more likely to convert to paying customers if:\n",
    "* they are active\n",
    "* have logged in recently\n",
    "* based on various demographics data"
   ]
  },
  {
   "cell_type": "markdown",
   "metadata": {},
   "source": [
    "## Let's get started with our dataset"
   ]
  },
  {
   "cell_type": "markdown",
   "metadata": {},
   "source": [
    "#### 1. Create a data dictionary "
   ]
  },
  {
   "cell_type": "markdown",
   "metadata": {},
   "source": [
    "Answer: \n",
    "\n",
    "Variable | Description | Type of Variable\n",
    "---| ---| ---\n",
    "Var 1 | 0 = not thing 1 = thing | categorical\n",
    "Var 2 | thing in unit X | continuous \n"
   ]
  },
  {
   "cell_type": "markdown",
   "metadata": {},
   "source": [
    "We would like to explore the association between X and Y "
   ]
  },
  {
   "cell_type": "markdown",
   "metadata": {},
   "source": [
    "#### 2. What is the outcome?"
   ]
  },
  {
   "cell_type": "markdown",
   "metadata": {},
   "source": [
    "Answer: The outcome is whether the student has been admitted to the grad school."
   ]
  },
  {
   "cell_type": "markdown",
   "metadata": {},
   "source": [
    "#### 3. What are the predictors/covariates? "
   ]
  },
  {
   "cell_type": "markdown",
   "metadata": {},
   "source": [
    "Answer: The student's GPA, Gre score and undergrad school \"prestige\"."
   ]
  },
  {
   "cell_type": "markdown",
   "metadata": {},
   "source": [
    "#### 4. What timeframe is this data relevent for?"
   ]
  },
  {
   "cell_type": "markdown",
   "metadata": {},
   "source": [
    "Answer: This is not clear/defined, we could assume (or hope) that the data is relevant to a given school year at UCLA, ie\n",
    "* the GPA scores over given year\n",
    "* the scores for Gre exams at a given point in time in that year (the same point in time for everyone?)\n",
    "* the prestige of the undergrad school where the student was in that particular year\n",
    "* the result of the admission procedure in to Grad school that followed that yearj"
   ]
  },
  {
   "cell_type": "markdown",
   "metadata": {},
   "source": [
    "#### 4. What is the hypothesis?"
   ]
  },
  {
   "cell_type": "markdown",
   "metadata": {},
   "source": [
    "Answer: Students will be more likely to be admitted into graduate school if they:\n",
    "* have a high GPA \n",
    "* have a high Gre score\n",
    "* are coming from a prestigious undergraduate alma mater"
   ]
  },
  {
   "cell_type": "markdown",
   "metadata": {},
   "source": [
    "    Using the above information, write a well-formed problem statement. \n"
   ]
  },
  {
   "cell_type": "markdown",
   "metadata": {},
   "source": [
    "## Problem Statement"
   ]
  },
  {
   "cell_type": "markdown",
   "metadata": {},
   "source": [
    "### Exploratory Analysis Plan"
   ]
  },
  {
   "cell_type": "markdown",
   "metadata": {},
   "source": [
    "Using the lab from a class as a guide, create an exploratory analysis plan. "
   ]
  },
  {
   "cell_type": "markdown",
   "metadata": {},
   "source": [
    "#### 1. What are the goals of the exploratory analysis? "
   ]
  },
  {
   "cell_type": "markdown",
   "metadata": {
    "collapsed": true
   },
   "source": [
    "Answer: The goals is to look at the main characteristics of the data (mean, min, max, distribution etc.) So that we have an first idea of what we are dealing with"
   ]
  },
  {
   "cell_type": "markdown",
   "metadata": {},
   "source": [
    "#### 2a. What are the assumptions of the distribution of data? "
   ]
  },
  {
   "cell_type": "markdown",
   "metadata": {},
   "source": [
    "Answer: One can usually assume that the data is normally distributed (depending on what type of data we're collecting). We should also assume (and double check) that the data has been truly randomly sampled from the population"
   ]
  },
  {
   "cell_type": "markdown",
   "metadata": {},
   "source": [
    "#### 2b. How will determine the distribution of your data? "
   ]
  },
  {
   "cell_type": "markdown",
   "metadata": {
    "collapsed": true
   },
   "source": [
    "Answer: Visually, by plotting histograms. We can also complement that by checking various numbers (ie standard deviation rule for a normal distribution for example)"
   ]
  },
  {
   "cell_type": "markdown",
   "metadata": {},
   "source": [
    "#### 3a. How might outliers impact your analysis? "
   ]
  },
  {
   "cell_type": "markdown",
   "metadata": {
    "collapsed": true
   },
   "source": [
    "Answer:  Outliers can skew the analysis in various ways:\n",
    "* They can cause the standard deviation, mean to be different than the \"true\" values\n",
    "* Depending on how many there are, the actual conclusions might be different, as well as the models and/or their parameters"
   ]
  },
  {
   "cell_type": "markdown",
   "metadata": {},
   "source": [
    "#### 3b. How will you test for outliers? "
   ]
  },
  {
   "cell_type": "markdown",
   "metadata": {},
   "source": [
    "Answer: One can use boxplots and see if there many data points which are very far from the 1st and 3rd quartiles for example."
   ]
  },
  {
   "cell_type": "markdown",
   "metadata": {},
   "source": [
    "#### 4a. What is colinearity? "
   ]
  },
  {
   "cell_type": "markdown",
   "metadata": {
    "collapsed": true
   },
   "source": [
    "Answer: The colinearity between two datasets represents the tendancy of those two variables to \"move\" together in a linear fashion. Ie higher values of X would usually correspond to higher/lower values of Y"
   ]
  },
  {
   "cell_type": "markdown",
   "metadata": {},
   "source": [
    "#### 4b. How will you test for colinearity? "
   ]
  },
  {
   "cell_type": "markdown",
   "metadata": {},
   "source": [
    "Answer: We can look at the correlation coefficients of two Series of data."
   ]
  },
  {
   "cell_type": "markdown",
   "metadata": {},
   "source": [
    "#### 5. What is your exploratory analysis plan?\n",
    "Using the above information, write an exploratory analysis plan that would allow you or a colleague to reproduce your analysis 1 year from now. "
   ]
  },
  {
   "cell_type": "markdown",
   "metadata": {},
   "source": [
    "Answer:\n",
    "* Get the dataset *admissions.csv*\n",
    "* Look at the main characteristics of the data (min, max, std etc.) box plots, plot the distributions\n",
    "* Detect if there any outliers, if many of them consider reacquiring the data or discarding the outliers\n",
    "* Look at the correlations coefficients between the various time series (Gre, GPA, Prestigue etc.)"
   ]
  },
  {
   "cell_type": "markdown",
   "metadata": {},
   "source": [
    "## Bonus Questions:\n",
    "1. Outline your analysis method for predicting your outcome\n",
    "2. Write an alternative problem statement for your dataset\n",
    "3. Articulate the assumptions and risks of the alternative model"
   ]
  },
  {
   "cell_type": "markdown",
   "metadata": {
    "collapsed": true
   },
   "source": [
    "2.\n",
    "We could look at a different outcome, for example the consistency of the GPA/Gre scores:\n",
    "\"Determine if the admission results into a graduate schools together with the prestigue of their undergraduate alma mater influences the likelihood consistency of the GPA/Gre scores of students\"\n",
    "\n",
    "3.\n",
    "We would here assume that there is a link between how similar Gre/GPA scores are (normalized of course), and whether a student was accepted into graduate school and the prestige of his undergraduate alma mater\n",
    "\n",
    "Presumably the original study that produced the data was looking at the admission results being the outcome. Not the consistency of GPA/Gre scores.\n",
    "Maybe other sources of information are much more relevant if we're interested in this particular outcome.\n",
    "Also the covariates in this case take a very limited range of values which could any results difficult to interpret/use"
   ]
  }
 ],
 "metadata": {
  "kernelspec": {
   "display_name": "Python 3",
   "language": "python",
   "name": "python3"
  },
  "language_info": {
   "codemirror_mode": {
    "name": "ipython",
    "version": 3
   },
   "file_extension": ".py",
   "mimetype": "text/x-python",
   "name": "python",
   "nbconvert_exporter": "python",
   "pygments_lexer": "ipython3",
   "version": "3.6.1"
  }
 },
 "nbformat": 4,
 "nbformat_minor": 1
}
